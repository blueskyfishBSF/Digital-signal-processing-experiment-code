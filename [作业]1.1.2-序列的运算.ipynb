{
 "cells": [
  {
   "cell_type": "markdown",
   "metadata": {},
   "source": [
    "ver: 20220917.1022"
   ]
  },
  {
   "cell_type": "code",
   "execution_count": 1,
   "metadata": {},
   "outputs": [],
   "source": [
    "# Initialization for this notebook.\n",
    "\n",
    "import numpy as np\n",
    "import matplotlib.pyplot as plt\n",
    "\n",
    "# Un-comment the following line to use interactive matplotlib widget.\n",
    "#%matplotlib widget\n",
    "\n",
    "# Returns a n seqence based on the offset provided.\n",
    "seq_n = lambda seq, noff: np.arange(seq.size) - noff\n",
    "\n",
    "# Set a better print format for numpy values.\n",
    "np.set_printoptions(formatter={'float': '{: 0.3f}'.format, 'int': '{: 5d}'.format})"
   ]
  },
  {
   "cell_type": "markdown",
   "metadata": {},
   "source": [
    "# 1.1 离散时间信号———序列\n",
    "\n",
    "## 1.1.2 序列的运算"
   ]
  },
  {
   "cell_type": "markdown",
   "metadata": {},
   "source": [
    "### 1. 基于对幅度的运算"
   ]
  },
  {
   "cell_type": "markdown",
   "metadata": {},
   "source": [
    "#### (1) 加法\n",
    "\n",
    "$$ z(n) = x(n) + y(n) $$\n",
    "\n",
    "【要点】\n",
    "\n",
    "- 必须把两个序列 **“对齐”** 后才相加，即下标 $n$ 相同的元素相加。\n",
    "- 如果一个序列在某些下标 $n$ 没有定义，但计算时又需要时，工程上一般可默认为值是零（特殊情况另当别论）。\n",
    "- 两个有限长的序列相加，计算的结果也是有限长。"
   ]
  },
  {
   "cell_type": "markdown",
   "metadata": {
    "tags": []
   },
   "source": [
    "【例】设 \n",
    "$$x(n)=\\{-1, \\underline{\\frac{1}{2}}, -\\frac{1}{4}, \\frac{1}{8}\\}, y(n)=\\{\\underline{1}, 3, 2\\}$$\n",
    "分别完成 $z(n)$ 的理论推导和编程计算。\n",
    "\n",
    "解：\n",
    "\n",
    "理论推导：将 $x(n)$ 和 $y(n)$ 对齐后对应元素相加，即可得加法计算结果 $z(n)$\n",
    "\n",
    "$$\n",
    "\\begin{array}{r}\n",
    "     x(n): &    &     &   -1 & \\underline{0.5}   & -0.25 & 0.125 \\\\\n",
    "     y(n): &    &     &      &   \\underline{1}   &     3 &     2 \\\\\n",
    "    \\hline\n",
    "     z(n): &    &     &   -1 & \\underline{1.5}   & 2.75  & 2.125 \\\\\n",
    "\\end{array}\n",
    "$$"
   ]
  },
  {
   "cell_type": "markdown",
   "metadata": {},
   "source": [
    "编程计算（尝试1）："
   ]
  },
  {
   "cell_type": "code",
   "execution_count": 2,
   "metadata": {
    "tags": []
   },
   "outputs": [
    {
     "name": "stdout",
     "output_type": "stream",
     "text": [
      "x = [ 1.000 -0.500  0.250 -0.125] , noff_x = 1\n",
      "y = [    1     3     2] , noff_y = 0\n"
     ]
    }
   ],
   "source": [
    "# Define the sequences.\n",
    "\n",
    "x = np.array([1, -1/2, 1/4, -1/8]); noff_x = 1\n",
    "print(\"x =\", x, \", noff_x =\", noff_x)\n",
    "\n",
    "y = np.array([1, 3, 2]); noff_y = 0\n",
    "print(\"y =\", y, \", noff_y =\", noff_y)"
   ]
  },
  {
   "cell_type": "code",
   "execution_count": 3,
   "metadata": {
    "tags": []
   },
   "outputs": [],
   "source": [
    "# # Numpy's \"+\" operator is element-wise addition. It should be what we need, right?\n",
    "# z = x + y\n",
    "# print(\"x =\", x)\n",
    "# print(\"y =\", y)\n",
    "# print(\"z =\", z)"
   ]
  },
  {
   "cell_type": "markdown",
   "metadata": {},
   "source": [
    "【分析】当多个序列间进行运算操作时，需要注意操作对序列长度的要求。例如，加法等操作要求两个数组长度相同。如果数组长度不同，常用的方法就是**补零**。"
   ]
  },
  {
   "cell_type": "markdown",
   "metadata": {},
   "source": [
    "编程计算（尝试2）："
   ]
  },
  {
   "cell_type": "code",
   "execution_count": 4,
   "metadata": {
    "tags": []
   },
   "outputs": [
    {
     "name": "stdout",
     "output_type": "stream",
     "text": [
      "x = [-1.000  0.500 -0.250  0.125]\n",
      "y = [    1     3     2     0]\n",
      "z = [ 0.000  3.500  1.750  0.125]\n"
     ]
    }
   ],
   "source": [
    "x = np.array([-1, 1/2, -1/4, 1/8]); noff_x = 1\n",
    "y = np.array([1, 3, 2]); noff_y = 0\n",
    "\n",
    "# Pad y with 0, so that it has the same length as x\n",
    "y = np.concatenate((y, [0]))\n",
    "\n",
    "z = x + y\n",
    "print(\"x =\", x)\n",
    "print(\"y =\", y)\n",
    "print(\"z =\", z)\n",
    "\n",
    "# There is no error now, but does it mean the result is correct?\n",
    "# It is not what we are expecting! (expectation: z = [-1, 1.5, 2.75, 2.125])"
   ]
  },
  {
   "cell_type": "code",
   "execution_count": 5,
   "metadata": {},
   "outputs": [
    {
     "data": {
      "text/plain": [
       "Text(0.5, 0, 'n')"
      ]
     },
     "execution_count": 5,
     "metadata": {},
     "output_type": "execute_result"
    },
    {
     "data": {
      "image/png": "[encoded data removed]",
      "text/plain": [
       "<Figure size 640x480 with 2 Axes>"
      ]
     },
     "metadata": {},
     "output_type": "display_data"
    }
   ],
   "source": [
    "# Let's plot x and y to see what happens.\n",
    "fig, axs = plt.subplots(2, 1, sharex=True, sharey=True)\n",
    "axs[0].stem(seq_n(x, noff_x), x)\n",
    "axs[0].set_ylabel('x(n)')\n",
    "axs[1].stem(seq_n(y, noff_y), y)\n",
    "axs[1].set_ylabel('y(n)')\n",
    "axs[1].set_xlabel('n')"
   ]
  },
  {
   "cell_type": "markdown",
   "metadata": {},
   "source": [
    "【分析】从上面的例子可以看到，**补零**是不能随意的，不仅要保证两个数组的长度符合要求，还要让数组**对齐**，即要令到各**数组下标**相同的元素，其对应的理论**序列下标**也要相同。例如这里的数组元素 `x[0]`和`y[0]`，应该分别对应序列值$x(-1)$和$y(-1)$。"
   ]
  },
  {
   "cell_type": "markdown",
   "metadata": {},
   "source": [
    "编程计算（尝试3）："
   ]
  },
  {
   "cell_type": "code",
   "execution_count": 6,
   "metadata": {
    "tags": []
   },
   "outputs": [
    {
     "name": "stdout",
     "output_type": "stream",
     "text": [
      "x = [-1.000  0.500 -0.250  0.125] , noff_x = 1\n",
      "y = [    0     1     3     2] , noff_y = 1\n",
      "z = [-1.000  1.500  2.750  2.125] , noff_z = 1\n"
     ]
    },
    {
     "data": {
      "text/plain": [
       "Text(0.5, 0, 'n')"
      ]
     },
     "execution_count": 6,
     "metadata": {},
     "output_type": "execute_result"
    },
    {
     "data": {
      "image/png": "[encoded data removed]",
      "text/plain": [
       "<Figure size 640x480 with 3 Axes>"
      ]
     },
     "metadata": {},
     "output_type": "display_data"
    }
   ],
   "source": [
    "x = np.array([-1, 1/2, -1/4, 1/8]); noff_x = 1\n",
    "y = np.array([1, 3, 2]); noff_y = 0\n",
    "\n",
    "# Align x and y\n",
    "y = np.concatenate(([0], y))\n",
    "noff_y = noff_y + 1    # Q: Why do this?\n",
    "\n",
    "z = x + y\n",
    "noff_z = noff_x\n",
    "\n",
    "print(\"x =\", x, \", noff_x =\", noff_x)\n",
    "print(\"y =\", y, \", noff_y =\", noff_y)\n",
    "print(\"z =\", z, \", noff_z =\", noff_z)\n",
    "\n",
    "fig, axs = plt.subplots(3, 1, sharex=True, sharey=True)\n",
    "axs[0].stem(seq_n(x, noff_x), x)\n",
    "axs[0].set_ylabel('x(n)')\n",
    "axs[1].stem(seq_n(y, noff_y), y)\n",
    "axs[1].set_ylabel('y(n)')\n",
    "axs[2].stem(seq_n(z, noff_z), z)\n",
    "axs[2].set_ylabel('z(n)')\n",
    "axs[2].set_xlabel('n')"
   ]
  },
  {
   "cell_type": "markdown",
   "metadata": {},
   "source": [
    "【结论】最后这次编程计算尝试的结果，与理论推导结果一致。"
   ]
  },
  {
   "cell_type": "markdown",
   "metadata": {},
   "source": [
    "#### (2) 乘法\n",
    "\n",
    "$$ w(n) = x(n) y(n) $$"
   ]
  },
  {
   "cell_type": "markdown",
   "metadata": {},
   "source": [
    "【作业】试模仿以上“加法”的例子，完成以下计算的理论推导和编程计算。\n",
    "\n",
    "设 \n",
    "$$x(n)=\\{\\underline{-1}, \\frac{1}{2}, -\\frac{1}{4}, \\frac{1}{8}\\}, y(n)=\\{1, 3, \\underline{2}\\}$$\n",
    "求 $w(n)$"
   ]
  },
  {
   "cell_type": "markdown",
   "metadata": {},
   "source": [
    "解： **(由学生完成)**\n",
    "\n",
    "理论推导："
   ]
  },
  {
   "cell_type": "markdown",
   "metadata": {},
   "source": [
    "编程计算："
   ]
  },
  {
   "cell_type": "code",
   "execution_count": 7,
   "metadata": {},
   "outputs": [
    {
     "name": "stdout",
     "output_type": "stream",
     "text": [
      "x = [-1.000  0.500 -0.250  0.125] , noff_x = 1\n",
      "y = [    0     1     3     2] , noff_y = 1\n",
      "z = [-0.000  0.500 -0.750  0.250] , noff_z = 1\n"
     ]
    },
    {
     "data": {
      "image/png": "[encoded data removed]",
      "text/plain": [
       "<Figure size 640x480 with 3 Axes>"
      ]
     },
     "metadata": {},
     "output_type": "display_data"
    }
   ],
   "source": [
    "# [To be completed by students.]\n",
    "# 创建一个numpy数组x，包含四个元素\n",
    "x = np.array([-1, 1/2, -1/4, 1/8])\n",
    "# x的偏移量\n",
    "noff_x = 1\n",
    "\n",
    "# 创建一个numpy数组y，包含三个元素\n",
    "y = np.array([1, 3, 2])\n",
    "# y的偏移量\n",
    "noff_y = 0\n",
    "\n",
    "# 在y数组前面添加一个元素0\n",
    "y = np.concatenate(([0], y))\n",
    "# 更新y的偏移量\n",
    "noff_y = noff_y + 1\n",
    "\n",
    "# 计算x和y的逐元素乘积并存储在z中\n",
    "z = x * y\n",
    "# z的偏移量与x相同\n",
    "noff_z = noff_x\n",
    "\n",
    "# 打印x, y, z及其偏移量\n",
    "print(\"x =\", x, \", noff_x =\", noff_x)\n",
    "print(\"y =\", y, \", noff_y =\", noff_y)\n",
    "print(\"z =\", z, \", noff_z =\", noff_z)\n",
    "\n",
    "# 创建一个3行1列的子图，共享x轴和y轴\n",
    "fig, axs = plt.subplots(3, 1, sharex=True, sharey=True)\n",
    "\n",
    "# 在第一个子图上绘制x的茎叶图\n",
    "axs[0].stem(seq_n(x, noff_x), x)\n",
    "# 设置y轴标签\n",
    "axs[0].set_ylabel('x(n)')\n",
    "\n",
    "# 在第二个子图上绘制y的茎叶图\n",
    "axs[1].stem(seq_n(y, noff_y), y)\n",
    "# 设置y轴标签\n",
    "axs[1].set_ylabel('y(n)')\n",
    "\n",
    "# 在第三个子图上绘制z的茎叶图\n",
    "axs[2].stem(seq_n(z, noff_z), z)\n",
    "# 设置y轴标签\n",
    "axs[2].set_ylabel('z(n)')\n",
    "# 设置x轴标签\n",
    "axs[2].set_xlabel('n')\n",
    "\n",
    "# 显示图形\n",
    "plt.show()\n"
   ]
  },
  {
   "cell_type": "markdown",
   "metadata": {},
   "source": [
    "由于序列对齐是很常用的计算，编写一个通用函数来实现，既方便调用，又减少因反复重写而错误的机会。"
   ]
  },
  {
   "cell_type": "code",
   "execution_count": 8,
   "metadata": {
    "tags": []
   },
   "outputs": [
    {
     "data": {
      "image/png": "[encoded data removed]",
      "text/plain": [
       "<Figure size 640x480 with 4 Axes>"
      ]
     },
     "metadata": {},
     "output_type": "display_data"
    },
    {
     "data": {
      "image/png": "[encoded data removed]",
      "text/plain": [
       "<Figure size 640x480 with 4 Axes>"
      ]
     },
     "metadata": {},
     "output_type": "display_data"
    },
    {
     "data": {
      "image/png": "[encoded data removed]",
      "text/plain": [
       "<Figure size 640x480 with 4 Axes>"
      ]
     },
     "metadata": {},
     "output_type": "display_data"
    }
   ],
   "source": [
    "# [BEST PRACTICE] Build a general function for a commonly used operation.\n",
    "\n",
    "def seq_align(seq1, noff1, seq2, noff2):\n",
    "    \"\"\"Align 2 sequences\"\"\"\n",
    "    n_min = min(-noff1, -noff2)     # ?\n",
    "    n_max = max(seq1.size-noff1-1, seq2.size-noff2-1)   # ?\n",
    "    seq1 = np.pad(seq1, (-noff1-n_min, n_max-(seq1.size-noff1-1)), constant_values=(0,0))   # ?\n",
    "    noff1 = -n_min  # ?\n",
    "    seq2 = np.pad(seq2, (-noff2-n_min, n_max-(seq2.size-noff2-1)), constant_values=(0,0))   # ?\n",
    "    noff2 = -n_min  # ?\n",
    "    return (seq1, noff1, seq2, noff2)\n",
    "\n",
    "# [BEST PRACTICE] Unit test for a complex function.\n",
    "# Note that this is not a standard unit test.\n",
    "# It does not verify the result automatically, instead, it let users to observe the plots.\n",
    "# This is good for education but not for engineering.\n",
    "def test_seq_align():\n",
    "    \"\"\"Unit test for seq_align()\"\"\"\n",
    "    def show_aligned_seqs(x, noff_x, y, noff_y):\n",
    "        fig, axs = plt.subplots(2, 2, sharex=True, sharey=True)\n",
    "        axs[0, 0].set_title('original')\n",
    "        axs[0, 0].stem(seq_n(x, noff_x), x)\n",
    "        axs[0, 0].set_ylabel('x(n)')\n",
    "        axs[1, 0].stem(seq_n(y, noff_y), y)\n",
    "        axs[1, 0].set_ylabel('y(n)')\n",
    "        axs[1, 0].set_xlabel('n')\n",
    "\n",
    "        (x, noff_x, y, noff_y) = seq_align(x, noff_x, y, noff_y)\n",
    "\n",
    "        axs[0, 1].set_title('aligned')\n",
    "        axs[0, 1].stem(seq_n(x, noff_x), x)\n",
    "        axs[1, 1].stem(seq_n(y, noff_y), y)\n",
    "        axs[1, 1].set_xlabel('n')\n",
    "\n",
    "    show_aligned_seqs(np.array([1, 1/2, 1/4, 1/8]), 1, np.array([1, 3, 2]), 2)\n",
    "    show_aligned_seqs(np.array([1, 1/2, 1/4, 1/8]), 1, np.array([1, 3, 2]), 0)\n",
    "    show_aligned_seqs(np.array([1, 1/2, 1/4, 1/8]), -5, np.array([1, 3, 2]), 1)\n",
    "\n",
    "# Run the unit test.\n",
    "test_seq_align()"
   ]
  },
  {
   "cell_type": "markdown",
   "metadata": {},
   "source": [
    "#### (3) 累加\n",
    "\n",
    "$$ y(n) = \\sum_{k=-\\infty}^{n}x(k) $$\n",
    "\n",
    "【要点】\n",
    "- 理论上，$y(n)$ 是无限长的（就算 $x(n)$ 是有限长的）。\n",
    "- 工程上，我们难以存储无限长的序列，因此计算 $y(n)$ 时我们一般取 $x(n)$ 有定义的范围。"
   ]
  },
  {
   "cell_type": "markdown",
   "metadata": {},
   "source": [
    "【例】设 \n",
    "$$x(n)=\\{-1, \\underline{\\frac{1}{2}}, -\\frac{1}{4}, \\frac{1}{8}\\}$$\n",
    "求 $y(n)$\n",
    "\n",
    "解：\n",
    "\n",
    "理论推导：根据有限长序列 $x(n)$ 的定义区间，分三段计算 $y(n)$。\n",
    "\n",
    "当 $n<-1$ 时，\n",
    "$$ y(n) = \\sum_{k=-\\infty}^{n}x(k) = x(-\\infty)+\\dotsb+x(n-1)+x(n) = 0 + \\dotsb + 0 + 0 = 0$$\n",
    "\n",
    "当 $-1 \\leqslant n \\leqslant 2$ 时，\n",
    "$$\n",
    "\\begin{array}{rl}\n",
    "    y(-1) &= \\sum_{k=-\\infty}^{-1}x(k) = x(-1) = -1 \\\\\n",
    "    y(0) &= \\sum_{k=-\\infty}^{0}x(k) = x(-1) + x(0) = -1 + 0.5 = -0.5 \\\\\n",
    "    y(1) &= \\sum_{k=-\\infty}^{1}x(k) = x(-1) + x(0) + x(1) = -1 + 0.5 - 0.25 = -0.75 \\\\\n",
    "    y(2) &= \\sum_{k=-\\infty}^{2}x(k) = x(-1) + x(0) + x(1) + x(2) = -1 + 0.5 - 0.25 + 0.125 = -0.625 \\\\\n",
    "\\end{array}\n",
    "$$\n",
    "\n",
    "当 $n>2$ 时，\n",
    "$$\n",
    "\\begin{align}\n",
    "y(n) &= \\sum_{k=-\\infty}^{n}x(k) \\\\\n",
    "     &= \\sum_{k=-\\infty}^{2}x(k) + \\sum_{k=3}^{n}x(k) \\\\\n",
    "     &= y(2) + x(3) + \\dotsb + x(n) \\\\\n",
    "     &= -0.625 + 0 + \\dotsb + 0 \\\\\n",
    "     &= -0.625\n",
    "\\end{align}\n",
    "$$"
   ]
  },
  {
   "cell_type": "markdown",
   "metadata": {},
   "source": [
    "编程计算（尝试1）："
   ]
  },
  {
   "cell_type": "code",
   "execution_count": 9,
   "metadata": {
    "tags": []
   },
   "outputs": [
    {
     "name": "stdout",
     "output_type": "stream",
     "text": [
      "x = [-1.000  0.500 -0.250  0.125] , noff_x = 1\n",
      "y = [-1.000 -0.500 -0.750 -0.625] , noff_y = 1\n"
     ]
    }
   ],
   "source": [
    "x = np.array([-1, 1/2, -1/4, 1/8]); noff_x = 1\n",
    "\n",
    "# Why we need '+1' at the end?\n",
    "# Why use np.arange() instead of range()?\n",
    "y = np.array([sum(x[0:k]) for k in np.arange(x.size)+1])\n",
    "noff_y = noff_x\n",
    "\n",
    "print(\"x =\", x, \", noff_x =\", noff_x)\n",
    "print(\"y =\", y, \", noff_y =\", noff_y)"
   ]
  },
  {
   "cell_type": "markdown",
   "metadata": {},
   "source": [
    "编程计算（尝试2）："
   ]
  },
  {
   "cell_type": "code",
   "execution_count": 10,
   "metadata": {
    "tags": []
   },
   "outputs": [
    {
     "name": "stdout",
     "output_type": "stream",
     "text": [
      "x = [-1.000  0.500 -0.250  0.125] , noff_x = 1\n",
      "y = [-1.000 -0.500 -0.750 -0.625] , noff_y = 1\n"
     ]
    }
   ],
   "source": [
    "x = np.array([-1, 1/2, -1/4, 1/8]); noff_x = 1\n",
    "\n",
    "# [BEST PRACTICE] Use built-in method whenever possible.\n",
    "y = x.cumsum()\n",
    "noff_y = noff_x\n",
    "\n",
    "print(\"x =\", x, \", noff_x =\", noff_x)\n",
    "print(\"y =\", y, \", noff_y =\", noff_y)"
   ]
  },
  {
   "cell_type": "markdown",
   "metadata": {},
   "source": [
    "【结论】两次编程计算的尝试和理论推导结果都一致。其中，第二次编程尝试使用了Numpy自带的累加计算函数，可信度较高。"
   ]
  },
  {
   "cell_type": "markdown",
   "metadata": {},
   "source": [
    "#### (4) 序列的绝对和\n",
    "\n",
    "$$ S = \\sum_{n=-\\infty}^{\\infty} |x(n)| $$\n",
    "\n",
    "【要点】\n",
    "\n",
    "- 序列的绝对和 $S$ 是一个值，不是序列。\n",
    "- 当 $|S|<\\infty$ 时（又称为**有界**），序列 $x(n)$ 称为**绝对可和序列**。\n",
    "- 对于有限长序列，其绝对和就是该序列有定义的范围内的值的绝对值的和。\n"
   ]
  },
  {
   "cell_type": "markdown",
   "metadata": {},
   "source": [
    "【例】设\n",
    "$$x(n)=\\{-1, \\underline{\\frac{1}{2}}, -\\frac{1}{4}, \\frac{1}{8}\\}$$\n",
    "求 $S$\n",
    "\n",
    "解：\n",
    "\n",
    "理论推导：根据有限长序列 $x(n)$ 的定义区间，将 $S$ 的计算分成三项。\n",
    "\n",
    "$$\n",
    "\\begin{align}\n",
    "S &= \\sum_{n=-\\infty}^{\\infty} |x(n)| \\\\\n",
    "  &= \\sum_{n=-\\infty}^{-2} |x(n)| + \\sum_{n=-1}^{2} |x(n)| + \\sum_{n=3}^{\\infty} |x(n)| \\\\\n",
    "  &= 0 + \\dotsb + 0 + |-1| + |0.5| + |-0.25| + |0.125| + 0 + \\dotsb + 0 \\\\\n",
    "  &= 1.875\n",
    "\\end{align}\n",
    "$$\n"
   ]
  },
  {
   "cell_type": "markdown",
   "metadata": {},
   "source": [
    "编程计算："
   ]
  },
  {
   "cell_type": "code",
   "execution_count": 11,
   "metadata": {
    "tags": []
   },
   "outputs": [
    {
     "name": "stdout",
     "output_type": "stream",
     "text": [
      "x = [-1.000  0.500 -0.250  0.125] , noff_x = 1\n",
      "S =  1.875\n"
     ]
    }
   ],
   "source": [
    "import numpy as np\n",
    "#导入numpy库，用于数值计算\n",
    "\n",
    "# 创建一个numpy数组，包含序列x的值\n",
    "x = np.array([-1, 1/2, -1/4, 1/8])  \n",
    "noff_x = 1  # 定义变量noff_x，赋值为1\n",
    "\n",
    "# 定义一个lambda函数seq_abssum，计算传入数组的绝对值之和\n",
    "seq_abssum = lambda x: np.sum(np.abs(x))  \n",
    "\n",
    "# 调用seq_abssum函数，计算x的绝对值之和，并将结果赋值给S\n",
    "S = seq_abssum(x)  \n",
    "\n",
    "# 打印x和noff_x的值\n",
    "print(\"x =\", x, \", noff_x =\", noff_x)  \n",
    "# 打印计算得到的绝对值之和S\n",
    "print(\"S = \", S)  "
   ]
  },
  {
   "cell_type": "markdown",
   "metadata": {},
   "source": [
    "【结论】编程计算和理论推导结果一致。"
   ]
  },
  {
   "cell_type": "markdown",
   "metadata": {},
   "source": [
    "#### (5) 序列的能量\n",
    "\n",
    "$$ E[x(n)] = \\sum_{n=-\\infty}^{\\infty} |x(n)|^{2} $$\n",
    "\n",
    "【要点】\n",
    "\n",
    "- 序列的能量 $E$ 是一个值，不是序列。\n",
    "- 当 $|E|<\\infty$ 时（又称为**有界**），序列 $x(n)$ 称为**能量信号**。\n",
    "- 对于有限长序列，其能量就是该序列有定义的范围内的值的平方和。"
   ]
  },
  {
   "cell_type": "markdown",
   "metadata": {},
   "source": [
    "【作业】试模仿以上“绝对和”的例子，完成以下计算的理论推导和编程计算。\n",
    "\n",
    "设\n",
    "$$x(n)=\\{-1, \\underline{\\frac{1}{2}}, -\\frac{1}{4}, \\frac{1}{8}\\}$$\n",
    "求 $E[x(n)]$\n",
    "\n",
    "解：**（由学生完成）**\n",
    "\n",
    "理论推导："
   ]
  },
  {
   "cell_type": "markdown",
   "metadata": {},
   "source": [
    "编程计算："
   ]
  },
  {
   "cell_type": "code",
   "execution_count": 12,
   "metadata": {},
   "outputs": [
    {
     "name": "stdout",
     "output_type": "stream",
     "text": [
      "x = [-1.000  0.500 -0.250  0.125] , noff_x = 1\n",
      "E =  1.328125\n"
     ]
    }
   ],
   "source": [
    "# [To be completed by students.]\n",
    "import numpy as np\n",
    "\n",
    "# 给定数组 x\n",
    "x = np.array([-1, 1/2, -1/4, 1/8])\n",
    "# 偏移量是1\n",
    "noff_x = 1\n",
    "\n",
    "# 定义一个 lambda 函数来计算平方和\n",
    "seq_squaresum = lambda x: np.sum(np.square(x))\n",
    "\n",
    "# 计算 x 的平方和\n",
    "E = seq_squaresum(x)\n",
    "\n",
    "# 打印结果\n",
    "print(\"x =\", x, \", noff_x =\", noff_x)\n",
    "# 打印结果\n",
    "print(\"E = \", E)\n"
   ]
  },
  {
   "cell_type": "markdown",
   "metadata": {},
   "source": [
    "#### (6) 序列的平均功率\n",
    "\n",
    "$$ P[x(n)] = \\lim_{N \\to \\infty} \\frac{1}{2N+1} \\sum_{n=-N}^{N} |x(n)|^2 $$\n",
    "\n",
    "对于周期为 $N$ 的信号，只需计算一个周期的平均功率：\n",
    "$$ P[x(n)] = \\frac{1}{N} \\sum_{n=0}^{N-1} |x(n)|^2 $$\n",
    "\n",
    "对于长度为 $N$ 的有限长信号，一般只计算有效长度之内平均功率：\n",
    "$$ P[x(n)] = \\frac{1}{N} \\sum_{n=n_0}^{n_0+N-1} |x(n)|^2 $$\n",
    "其中，$x(n)$在区间 $n \\in [n_0, n_0+ N-1]$ 有定义。\n",
    "\n",
    "【要点】\n",
    "\n",
    "- 序列的功率 $P$ 是一个值，不是序列。\n",
    "- 当 $|P|<\\infty$ 时（又称为**有界**），序列 $x(n)$ 称为**功率信号**。\n",
    "- 功率 $P$ 是序列能量 $S$ 的平均值，反映了序列平均每个元素所携带的能量。"
   ]
  },
  {
   "cell_type": "markdown",
   "metadata": {},
   "source": [
    "【作业】完成以下计算的理论推导和编程计算。\n",
    "\n",
    "设\n",
    "$$x(n)=\\{-1, \\underline{\\frac{1}{2}}, -\\frac{1}{4}, \\frac{1}{8}\\}$$\n",
    "求 $P[x(n)]$\n",
    "\n",
    "解：**（由学生完成）**\n",
    "\n",
    "理论推导："
   ]
  },
  {
   "cell_type": "markdown",
   "metadata": {},
   "source": [
    "编程计算："
   ]
  },
  {
   "cell_type": "code",
   "execution_count": 13,
   "metadata": {
    "tags": []
   },
   "outputs": [
    {
     "name": "stdout",
     "output_type": "stream",
     "text": [
      "x = [-1.000  0.500 -0.250  0.125] , noff_x = 1\n",
      "P =  1.328125\n",
      "Average square =  0.33203125\n"
     ]
    }
   ],
   "source": [
    "import numpy as np\n",
    "\n",
    "# 给定数组 x\n",
    "x = np.array([-1, 1/2, -1/4, 1/8])\n",
    "noff_x = 1\n",
    "\n",
    "# 定义一个 lambda 函数来计算平方和\n",
    "seq_squaresum = lambda x: np.sum(np.square(x))\n",
    "\n",
    "# 计算 x 的平方和\n",
    "P = seq_squaresum(x)\n",
    "\n",
    "# 获取 x 的元素个数\n",
    "num_elements = x.size\n",
    "\n",
    "# 计算平方和除以元素个数\n",
    "average_square = P / num_elements\n",
    "\n",
    "# 打印结果\n",
    "print(\"x =\", x, \", noff_x =\", noff_x)\n",
    "# 打印结果\n",
    "print(\"P = \", P)\n",
    "# 打印结果\n",
    "print(\"Average square = \", average_square)\n"
   ]
  },
  {
   "cell_type": "markdown",
   "metadata": {},
   "source": [
    "### 2. 基于对变量的运算"
   ]
  },
  {
   "cell_type": "markdown",
   "metadata": {},
   "source": [
    "#### (1) 移位\n",
    "\n",
    "$$ y(n)=x(n-m) $$\n",
    "\n",
    "【要点】\n",
    "\n",
    "- 当 $m>0$ 时，称 $y(n)$ 比 $x(n)$ **延迟** $|m|$ 个采样。\n",
    "- 当 $m<0$ 时，称 $y(n)$ 比 $x(n)$ **超前** $|m|$ 个采样。"
   ]
  },
  {
   "cell_type": "markdown",
   "metadata": {},
   "source": [
    "【例】设\n",
    "\n",
    "$$x(n)=\\{-1, \\underline{\\frac{1}{2}}, -\\frac{1}{4}, \\frac{1}{8}\\}$$\n",
    "\n",
    "求 $y(n)=x(n+2)$\n",
    "\n",
    "解：\n",
    "\n",
    "理论推导：\n",
    "\n",
    "- 当 $n<-3$ 时，$n+2<-1$，$y(n) = x(n+2)$ 没有定义。\n",
    "- 当 $-3 \\leqslant n \\leqslant 0$ 时，\n",
    "$$\n",
    "\\begin{align}\n",
    "y(-3) &= x(-3 + 2) = x(-1) = -1 \\\\\n",
    "y(-2) &= x(-2 + 2) = x(0) = 0.5 \\\\\n",
    "y(-1) &= x(-1 + 2) = x(1) = -0.25 \\\\\n",
    " y(0) &= x(0 + 2) = x(2) = 0.125 \\\\\n",
    "\\end{align}\n",
    "$$\n",
    "- 当 $n>0$ 时，$n+2>2$，$y(n) = x(n+2)$ 也没有定义。\n",
    "\n",
    "因此 $y(n)=\\{-1, 0.5, -0.25, \\underline{0.125}\\}$。\n"
   ]
  },
  {
   "cell_type": "markdown",
   "metadata": {},
   "source": [
    "编程计算："
   ]
  },
  {
   "cell_type": "code",
   "execution_count": 14,
   "metadata": {
    "tags": []
   },
   "outputs": [
    {
     "name": "stdout",
     "output_type": "stream",
     "text": [
      "m = -2\n",
      "x = [-1.000  0.500 -0.250  0.125] , noff_x = 1\n",
      "y = [-1.000  0.500 -0.250  0.125] , noff_y = 3\n"
     ]
    },
    {
     "data": {
      "text/plain": [
       "Text(0.5, 0, 'n')"
      ]
     },
     "execution_count": 14,
     "metadata": {},
     "output_type": "execute_result"
    },
    {
     "data": {
      "image/png": "[encoded data removed]",
      "text/plain": [
       "<Figure size 640x480 with 2 Axes>"
      ]
     },
     "metadata": {},
     "output_type": "display_data"
    }
   ],
   "source": [
    "x = np.array([-1, 1/2, -1/4, 1/8]); noff_x = 1\n",
    "\n",
    "m = -2  # Why not m=2?\n",
    "\n",
    "# Build a general function.\n",
    "seq_shift = lambda seq, noff, m: (seq, noff - m)   # Why noff-m?\n",
    "\n",
    "(y, noff_y) = seq_shift(x, noff_x, m)\n",
    "\n",
    "print(\"m =\", m)\n",
    "print(\"x =\", x, \", noff_x =\", noff_x)\n",
    "print(\"y =\", y, \", noff_y =\", noff_y)\n",
    "\n",
    "fig, axs = plt.subplots(2, 1, sharex=True, sharey=True)\n",
    "axs[0].stem(seq_n(x, noff_x), x)\n",
    "axs[0].set_ylabel('x(n)')\n",
    "axs[1].stem(seq_n(y, noff_y), y)\n",
    "axs[1].set_ylabel('y(n)')\n",
    "axs[1].set_xlabel('n')"
   ]
  },
  {
   "cell_type": "markdown",
   "metadata": {},
   "source": [
    "【结论】编程计算结果与理论推导结果一致。"
   ]
  },
  {
   "cell_type": "markdown",
   "metadata": {},
   "source": [
    "### (2) 翻褶\n",
    "\n",
    "$$ y(n)=x(-n) $$\n",
    "\n",
    "【要点】\n",
    "\n",
    "- 以 $n=0$ 为轴心翻转。"
   ]
  },
  {
   "cell_type": "markdown",
   "metadata": {},
   "source": [
    "【作业】完成以下计算的理论推导和编程计算。\n",
    "\n",
    "设\n",
    "\n",
    "$$x(n)=\\{-1, \\underline{\\frac{1}{2}}, -\\frac{1}{4}, \\frac{1}{8}\\}$$\n",
    "\n",
    "求 $y(n)=x(-n)$\n",
    "\n",
    "解：**（由学生完成）**\n",
    "\n",
    "理论推导："
   ]
  },
  {
   "cell_type": "markdown",
   "metadata": {},
   "source": [
    "编程计算："
   ]
  },
  {
   "cell_type": "code",
   "execution_count": 15,
   "metadata": {},
   "outputs": [
    {
     "name": "stdout",
     "output_type": "stream",
     "text": [
      "原始序列 x(n): [-1.000  0.500 -0.250  0.125] 偏移量 noff_x = 1\n",
      "翻转序列 y(n): [ 0.125 -0.250  0.500 -1.000] 偏移量 noff_y = -4\n"
     ]
    },
    {
     "data": {
      "image/png": "[encoded data removed]",
      "text/plain": [
       "<Figure size 640x480 with 2 Axes>"
      ]
     },
     "metadata": {},
     "output_type": "display_data"
    }
   ],
   "source": [
    "# [To be completed by students.]\n",
    "import numpy as np\n",
    "import matplotlib.pyplot as plt\n",
    "\n",
    "import numpy as np\n",
    "import matplotlib.pyplot as plt\n",
    "\n",
    "# 创建一个数组 x，包含序列的值\n",
    "x = np.array([-1, 1/2, -1/4, 1/8])\n",
    "# 设置序列的偏移量 noff_x\n",
    "noff_x = 1\n",
    "\n",
    "# 定义一个函数，根据序列和偏移量生成 n 的值\n",
    "def seq_n(seq, noff):\n",
    "    return np.arange(-noff, -noff + len(seq))\n",
    "\n",
    "# 定义一个函数，用于翻转序列并计算新的偏移量\n",
    "def flip_sequence(seq, noff):\n",
    "    return seq[::-1], -noff - len(seq) + 1\n",
    "\n",
    "# 翻转序列 x 并获取新的偏移量 noff_y\n",
    "y, noff_y = flip_sequence(x, noff_x)\n",
    "\n",
    "# 打印原始序列 x 和它的偏移量 noff_x\n",
    "print(\"原始序列 x(n):\", x, \"偏移量 noff_x =\", noff_x)\n",
    "# 打印翻转后的序列 y 和它的偏移量 noff_y\n",
    "print(\"翻转序列 y(n):\", y, \"偏移量 noff_y =\", noff_y)\n",
    "\n",
    "# 创建一个图形窗口，包含两个子图\n",
    "fig, axs = plt.subplots(2, 1, sharex=True, sharey=True)\n",
    "# 在第一个子图上绘制原始序列 x 的茎叶图\n",
    "axs[0].stem(seq_n(x, noff_x), x, basefmt=\" \")\n",
    "# 在第一个子图上绘制y轴\n",
    "axs[0].set_ylabel('x(n)')\n",
    "# 在第二个子图上绘制翻转序列 y 的茎叶图\n",
    "axs[1].stem(seq_n(y, noff_y), y, basefmt=\" \")\n",
    "# 在第二个子图上绘制y轴\n",
    "axs[1].set_ylabel('y(n)')\n",
    "# 在第二个子图上绘制x轴\n",
    "axs[1].set_xlabel('n')\n",
    "\n",
    "# 显示图形窗口\n",
    "plt.show()\n",
    "\n"
   ]
  },
  {
   "cell_type": "markdown",
   "metadata": {},
   "source": [
    "【作业】（可选）编写一个通用的序列翻褶计算函数 `seq_flip`。\n",
    "\n",
    "要求：\n",
    "\n",
    "- 函数的API必须如下注释所示。\n",
    "- 要有相应的测试函数 `test_seq_flip` 来验证 `seq_flip` 的正确性。\n",
    "- 利用 `seq_flip` 和上文提供的 `seq_shift` 函数，计算 $y(n)=x(n-2)$，并与理论推导结果对比。$x(n)$ 的值自拟。\n",
    "\n",
    "提示：可模仿上文中的 `seq_align` 函数及其测试函数 `test_seq_align` 的形式。"
   ]
  },
  {
   "cell_type": "code",
   "execution_count": 16,
   "metadata": {},
   "outputs": [],
   "source": [
    "# Build a general function for flipping a seqence.\n",
    "\n",
    "# The API of the function:\n",
    "#\n",
    "# seq_flip(seq, noff)\n",
    "#    Returns a flipped sequence.\n",
    "#\n",
    "#    Parameters: \n",
    "#        seq: array_like\n",
    "#             Input sequence.\n",
    "#        noff: int\n",
    "#             n's offset, i.e. the index of seq where n=0.\n",
    "#    Returns: (seq, noff)\n",
    "#        seq: array_like\n",
    "#             Output sequence.\n",
    "#        noff: int\n",
    "#             n's offset.\n",
    "\n",
    "# [To be completed by students.]"
   ]
  }
 ],
 "metadata": {
  "kernelspec": {
   "display_name": "Python 3 (ipykernel)",
   "language": "python",
   "name": "python3"
  },
  "language_info": {
   "codemirror_mode": {
    "name": "ipython",
    "version": 3
   },
   "file_extension": ".py",
   "mimetype": "text/x-python",
   "name": "python",
   "nbconvert_exporter": "python",
   "pygments_lexer": "ipython3",
   "version": "3.9.13"
  }
 },
 "nbformat": 4,
 "nbformat_minor": 4
}
