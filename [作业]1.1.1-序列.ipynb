{
 "cells": [
  {
   "cell_type": "markdown",
   "metadata": {},
   "source": [
    "ver: 20210917.1049"
   ]
  },
  {
   "cell_type": "code",
   "execution_count": 26,
   "metadata": {},
   "outputs": [],
   "source": [
    "# Initialization for this notebook.\n",
    "\n",
    "import numpy as np\n",
    "import matplotlib.pyplot as plt\n",
    "\n",
    "# Un-comment the following line to use interactive matplotlib widget.\n",
    "#%matplotlib widget"
   ]
  },
  {
   "cell_type": "markdown",
   "metadata": {},
   "source": [
    "# 1.1 离散时间信号———序列"
   ]
  },
  {
   "cell_type": "markdown",
   "metadata": {},
   "source": [
    "## 1.1.1 序列"
   ]
  },
  {
   "cell_type": "markdown",
   "metadata": {},
   "source": [
    "$$ x(n)=x_a(t)|_{t=nT}=x_a(nT) $$\n",
    "\n",
    "序列在计算机程序中，通常使用数组来实现。例如，在Python中实现 $ x(n)=\\{-5, -3, \\underline{-1}, 0, 2, 7, 9\\} $ 可以是："
   ]
  },
  {
   "cell_type": "code",
   "execution_count": 27,
   "metadata": {
    "tags": []
   },
   "outputs": [
    {
     "name": "stdout",
     "output_type": "stream",
     "text": [
      "x = [-5 -3 -1  0  2  7  9]\n"
     ]
    }
   ],
   "source": [
    "x = np.array([-5, -3, -1, 0, 2, 7, 9])\n",
    "print(\"x =\", x)"
   ]
  },
  {
   "cell_type": "code",
   "execution_count": 28,
   "metadata": {
    "tags": []
   },
   "outputs": [
    {
     "name": "stdout",
     "output_type": "stream",
     "text": [
      "9 -5 -3\n"
     ]
    }
   ],
   "source": [
    "# Pay close attention to the values!\n",
    "print(x[-1], x[0], x[1])"
   ]
  },
  {
   "cell_type": "markdown",
   "metadata": {},
   "source": [
    "理论的序列，下标取值范围是**整个整数集合**。但在大多数计算机语言中，数组的下标是**从一个固定的数值开始**。如Python/C/C++/Java等是从0开始，MATLAB是从1开始。因此，要特别小心下标的正确转换。\n",
    "\n",
    "一种常见解决方法是，为序列记录下它 $n=0$ 时对应的数组下标，称为（$n$ 的）偏移量(offset)。这样，理论上序列的值$x(n)$就和数组值`x[n+noff]`相对应了。"
   ]
  },
  {
   "cell_type": "code",
   "execution_count": 29,
   "metadata": {
    "tags": []
   },
   "outputs": [
    {
     "name": "stdout",
     "output_type": "stream",
     "text": [
      "x = [-5 -3 -1  0  2  7  9] , noff_x = 2\n",
      "[x_n(-1), x_n(0), x_n(1)] = [ -3 -1 0 ]\n"
     ]
    }
   ],
   "source": [
    "# Define a sequence and it's offset.\n",
    "x = np.array([-5, -3, -1, 0, 2, 7, 9])\n",
    "noff_x = 2  # Offset of n for sequence x. Meaning x[noff_x] is x(n=0).\n",
    "\n",
    "print(\"x =\", x, \", noff_x =\", noff_x)\n",
    "print(\"[x_n(-1), x_n(0), x_n(1)] = [\", x[-1+noff_x], x[0+noff_x], x[1+noff_x], \"]\")"
   ]
  },
  {
   "cell_type": "code",
   "execution_count": 30,
   "metadata": {
    "tags": []
   },
   "outputs": [
    {
     "name": "stdout",
     "output_type": "stream",
     "text": [
      "x = [-5 -3 -1  0  2  7  9] , noff_x = 2\n",
      "[x_n(-1), x_n(0), x_n(1)] = [ -3 -1 0 ]\n"
     ]
    }
   ],
   "source": [
    "# To get the \"theoretical\" x(n).\n",
    "# Note: As a function, it can only \"get\", not \"set\" the value!\n",
    "x_n = lambda n: x[n +noff_x]\n",
    "\n",
    "print(\"x =\", x, \", noff_x =\", noff_x)\n",
    "print(\"[x_n(-1), x_n(0), x_n(1)] = [\", x_n(-1), x_n(0), x_n(1), \"]\")"
   ]
  },
  {
   "cell_type": "code",
   "execution_count": 31,
   "metadata": {
    "tags": []
   },
   "outputs": [
    {
     "name": "stdout",
     "output_type": "stream",
     "text": [
      "x   = [-5 -3 -1  0  2  7  9]\n",
      "n_x = [-2 -1  0  1  2  3  4]\n"
     ]
    }
   ],
   "source": [
    "# Returns a n seqence based on the offset provided.\n",
    "seq_n = lambda seq, noff: np.arange(seq.size) - noff\n",
    "\n",
    "print(\"x   =\", x)\n",
    "print(\"n_x =\", seq_n(x, noff_x))"
   ]
  },
  {
   "cell_type": "code",
   "execution_count": 32,
   "metadata": {},
   "outputs": [
    {
     "data": {
      "text/plain": [
       "Text(0, 0.5, 'x(n)')"
      ]
     },
     "execution_count": 32,
     "metadata": {},
     "output_type": "execute_result"
    },
    {
     "data": {
      "image/png": "[encoded data removed]",
      "text/plain": [
       "<Figure size 640x480 with 1 Axes>"
      ]
     },
     "metadata": {},
     "output_type": "display_data"
    }
   ],
   "source": [
    "# seq_n() is especially useful when plotting a sequence.\n",
    "fig, ax = plt.subplots()\n",
    "ax.stem(seq_n(x, noff_x),x)\n",
    "ax.set_xlabel('n')\n",
    "ax.set_ylabel('x(n)')"
   ]
  },
  {
   "cell_type": "markdown",
   "metadata": {},
   "source": [
    "对于有规律的序列，如：\n",
    "$$ x(n) = a^n $$\n",
    "我们通常采用编程的方式来产生。需要注意，一般情况下计算机只分析处理有限长度的序列。因此，我们往往会在程序中限定 $n$ 的取值范围，并近似认为序列是有限长序列。"
   ]
  },
  {
   "cell_type": "code",
   "execution_count": 33,
   "metadata": {
    "tags": []
   },
   "outputs": [
    {
     "name": "stdout",
     "output_type": "stream",
     "text": [
      "x = [3.200e+01 1.600e+01 8.000e+00 4.000e+00 2.000e+00 1.000e+00 5.000e-01\n",
      " 2.500e-01 1.250e-01 6.250e-02 3.125e-02] , noff_x = 5\n"
     ]
    },
    {
     "data": {
      "text/plain": [
       "Text(0.5, 1.0, 'x(n) = a^n')"
      ]
     },
     "execution_count": 33,
     "metadata": {},
     "output_type": "execute_result"
    },
    {
     "data": {
      "image/png": "[encoded data removed]",
      "text/plain": [
       "<Figure size 640x480 with 1 Axes>"
      ]
     },
     "metadata": {},
     "output_type": "display_data"
    }
   ],
   "source": [
    "# Parameters\n",
    "(n_min, n_max) = (-5, 5)    # The range of n\n",
    "a = 0.5\n",
    "\n",
    "# Generate the sequence\n",
    "x = np.array([a**n for n in range(n_min, n_max+1)])  # Why '+1'?\n",
    "noff_x = 0 - n_min          # Why?\n",
    "\n",
    "print(\"x =\", x, \", noff_x =\", noff_x)\n",
    "\n",
    "# Plot the sequence\n",
    "fig, ax = plt.subplots()\n",
    "ax.stem(seq_n(x, noff_x), x)\n",
    "ax.set_xlabel('n')\n",
    "ax.set_ylabel('x(n)')\n",
    "ax.set_title('x(n) = a^n')"
   ]
  },
  {
   "cell_type": "markdown",
   "metadata": {},
   "source": [
    "## 作业\n",
    "\n",
    "参考以上教师提供的序列生成代码，编写程序生成以下指定序列。\n",
    "\n",
    "要求\n",
    "- 每个序列都只通过修改 `n_min`, `n_max` 参数即可改变所生成的序列的下标区间。\n",
    "- 每一行代码都要有注释（可以使用中文）。\n",
    "- 将本 `ipynb` 文件（带有输出结果的）导出为 `html` 文件格式，再连同 `ipynb` 文件打包压缩成7z格式提交。"
   ]
  },
  {
   "cell_type": "markdown",
   "metadata": {},
   "source": [
    "1. 试生成以下序列：\n",
    "$$\n",
    "\\delta(n) = \\begin{cases}\n",
    "    1, n=0  \\\\\n",
    "    0, n \\neq 0  \n",
    "\\end{cases}\n",
    "$$"
   ]
  },
  {
   "cell_type": "code",
   "execution_count": 34,
   "metadata": {
    "tags": []
   },
   "outputs": [
    {
     "name": "stdout",
     "output_type": "stream",
     "text": [
      "x = [0 0 0 0 0 1 0 0 0 0 0] , noff_x = 5\n"
     ]
    },
    {
     "data": {
      "text/plain": [
       "Text(0.5, 1.0, 'x(n) = check_zero')"
      ]
     },
     "execution_count": 34,
     "metadata": {},
     "output_type": "execute_result"
    },
    {
     "data": {
      "image/png": "[encoded data removed]",
      "text/plain": [
       "<Figure size 640x480 with 1 Axes>"
      ]
     },
     "metadata": {},
     "output_type": "display_data"
    }
   ],
   "source": [
    "# [To be completed by students.]\n",
    "\n",
    "# 设置n的最小值和最大值分别为-5和5\n",
    "(n_min, n_max) = (-5, 5)\n",
    "# 设置间隔a为0.5\n",
    "a = 0.5\n",
    "\n",
    "# 定义一个函数num，它接受一个参数n\n",
    "def num(n):\n",
    "    # 如果n等于0，返回1\n",
    "    if n == 0:\n",
    "        return 1\n",
    "    # 如果n不等于0，返回0\n",
    "    else:\n",
    "        return 0\n",
    "\n",
    "# 使用列表推导式和num函数，创建一个numpy数组x，包含n_min到n_max范围内每个n的num函数结果\n",
    "x = np.array([num(n) for n in range(n_min, n_max+1)])\n",
    "# 计算n偏移量noff_x，它是0减去n_min的值\n",
    "noff_x = 0 - n_min\n",
    "\n",
    "# 打印数组x和偏移量noff_x\n",
    "print(\"x =\", x, \", noff_x =\", noff_x)\n",
    "\n",
    "# 创建一个图形和坐标轴\n",
    "fig, ax = plt.subplots()\n",
    "# 在坐标轴上绘制一个茎叶图，显示序列x和它的n偏移量noff_x\n",
    "ax.stem(seq_n(x, noff_x), x)\n",
    "# 设置x轴标签为'n'\n",
    "ax.set_xlabel('n')\n",
    "# 设置y轴标签为'x(n)'\n",
    "ax.set_ylabel('x(n)')\n",
    "# 设置图形标题为'x(n) = check_zero'\n",
    "ax.set_title('x(n) = check_zero')"
   ]
  },
  {
   "cell_type": "markdown",
   "metadata": {},
   "source": [
    "2. 试生成以下序列：\n",
    "$$\n",
    "u(n) = \\begin{cases}\n",
    "    1, n \\geqslant 0  \\\\\n",
    "    0, n < 0  \n",
    "\\end{cases}\n",
    "$$"
   ]
  },
  {
   "cell_type": "code",
   "execution_count": 35,
   "metadata": {
    "tags": []
   },
   "outputs": [
    {
     "name": "stdout",
     "output_type": "stream",
     "text": [
      "x = [0 0 0 0 0 1 1 1 1 1 1] , noff_x = 5\n"
     ]
    },
    {
     "data": {
      "text/plain": [
       "Text(0.5, 1.0, 'x(n) = check_one')"
      ]
     },
     "execution_count": 35,
     "metadata": {},
     "output_type": "execute_result"
    },
    {
     "data": {
      "image/png": "[encoded data removed]",
      "text/plain": [
       "<Figure size 640x480 with 1 Axes>"
      ]
     },
     "metadata": {},
     "output_type": "display_data"
    }
   ],
   "source": [
    "# [To be completed by students.]\n",
    "\n",
    "# 设置n的最小值和最大值分别为-5和5\n",
    "(n_min, n_max) = (-5, 5)\n",
    "# 设置间隔a为0.5\n",
    "a = 0.5\n",
    "\n",
    "# 定义一个函数num，它接受一个参数n\n",
    "def num(n):\n",
    "    # 如果n大于等于0，返回1\n",
    "    if n >= 0:\n",
    "        return 1\n",
    "    # 如果n小于0，返回0\n",
    "    else:\n",
    "        return 0\n",
    "\n",
    "# 使用列表推导式和num函数，创建一个numpy数组x，包含n_min到n_max范围内每个n的num函数结果\n",
    "x = np.array([num(n) for n in range(n_min, n_max+1)])\n",
    "# 计算n偏移量noff_x，它是0减去n_min的值\n",
    "noff_x = 0 - n_min\n",
    "\n",
    "# 打印数组x和偏移量noff_x\n",
    "print(\"x =\", x, \", noff_x =\", noff_x)\n",
    "\n",
    "# 创建一个图形和坐标轴\n",
    "#fig.绘图窗口 ax.带坐标轴的\n",
    "fig, ax = plt.subplots()\n",
    "# 在坐标轴上绘制一个茎叶图，显示序列x和它的n偏移量noff_x\n",
    "ax.stem(seq_n(x, noff_x), x)\n",
    "# 设置x轴标签为'n'\n",
    "ax.set_xlabel('n')\n",
    "# 设置y轴标签为'x(n)'\n",
    "ax.set_ylabel('x(n)')\n",
    "# 设置图形标题为'x(n) = check_one'\n",
    "ax.set_title('x(n) = check_one')"
   ]
  },
  {
   "cell_type": "markdown",
   "metadata": {},
   "source": [
    "3. 试生成以下序列：\n",
    "$$\n",
    "R_N(n) = \\begin{cases}\n",
    "    1, 0 \\leqslant n \\leqslant N-1  \\\\\n",
    "    0, \\text{其他}n\n",
    "\\end{cases}\n",
    "$$\n",
    "$N$为大于0的整数"
   ]
  },
  {
   "cell_type": "code",
   "execution_count": 36,
   "metadata": {
    "tags": []
   },
   "outputs": [
    {
     "name": "stdout",
     "output_type": "stream",
     "text": [
      "x = [0 0 0 0 0 1 1 1 0 0 0] , noff_x = 5\n"
     ]
    },
    {
     "data": {
      "text/plain": [
       "Text(0.5, 1.0, 'x(n) = check')"
      ]
     },
     "execution_count": 36,
     "metadata": {},
     "output_type": "execute_result"
    },
    {
     "data": {
      "image/png": "[encoded data removed]",
      "text/plain": [
       "<Figure size 640x480 with 1 Axes>"
      ]
     },
     "metadata": {},
     "output_type": "display_data"
    }
   ],
   "source": [
    "# [To be completed by students.]\n",
    "\n",
    "# 设置N的值为3\n",
    "N=3\n",
    "# 设置n的最小值和最大值分别为-5和5\n",
    "(n_min, n_max) = (-5, 5)\n",
    "# 设置间隔a为0.5\n",
    "a = 0.5\n",
    "\n",
    "# 定义一个函数num，它接受一个参数n\n",
    "def num(n):\n",
    "    # 如果n大于等于0且小于等于N-1，返回1\n",
    "    if n >= 0 and n<=(N-1):\n",
    "        return 1\n",
    "    # 如果n不满足上面条件，返回0\n",
    "    else:\n",
    "        return 0\n",
    "\n",
    "# 使用列表推导式和num函数，创建一个numpy数组x，包含n_min到n_max范围内每个n的num函数结果\n",
    "x = np.array([num(n) for n in range(n_min, n_max+1)])\n",
    "# 计算n偏移量noff_x，它是0减去n_min的值\n",
    "noff_x = 0 - n_min\n",
    "\n",
    "# 打印数组x和偏移量noff_x\n",
    "print(\"x =\", x, \", noff_x =\", noff_x)\n",
    "\n",
    "# 创建一个图形和坐标轴\n",
    "fig, ax = plt.subplots()\n",
    "# 在坐标轴上绘制一个茎叶图，显示序列x和它的n偏移量noff_x\n",
    "ax.stem(seq_n(x, noff_x), x)\n",
    "# 设置x轴标签为'n'\n",
    "ax.set_xlabel('n')\n",
    "# 设置y轴标签为'x(n)'\n",
    "ax.set_ylabel('x(n)')\n",
    "# 设置图形标题为'x(n) = check'\n",
    "ax.set_title('x(n) = check')"
   ]
  }
 ],
 "metadata": {
  "kernelspec": {
   "display_name": "Python 3 (ipykernel)",
   "language": "python",
   "name": "python3"
  },
  "language_info": {
   "codemirror_mode": {
    "name": "ipython",
    "version": 3
   },
   "file_extension": ".py",
   "mimetype": "text/x-python",
   "name": "python",
   "nbconvert_exporter": "python",
   "pygments_lexer": "ipython3",
   "version": "3.8.10"
  }
 },
 "nbformat": 4,
 "nbformat_minor": 4
}
